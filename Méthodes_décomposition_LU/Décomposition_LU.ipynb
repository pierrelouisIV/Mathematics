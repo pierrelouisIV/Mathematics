{
 "cells": [
  {
   "cell_type": "markdown",
   "id": "14fb6fd0",
   "metadata": {},
   "source": [
    "# Decomposition LU"
   ]
  },
  {
   "cell_type": "markdown",
   "id": "cb97bcdd",
   "metadata": {},
   "source": [
    "- Décomposition d'une matrice carrée, inversible, A en une matrice triangulaire inférieure L telle que $L_{i,i} = 1$ pour\t$\\forall i = 1, ..., n$, et en une matrice triangulaire supérieure U telle que $A = LU$"
   ]
  },
  {
   "cell_type": "code",
   "execution_count": 1,
   "id": "5e5f4ce6",
   "metadata": {},
   "outputs": [],
   "source": [
    "# library\n",
    "import numpy as np"
   ]
  },
  {
   "cell_type": "code",
   "execution_count": 60,
   "id": "7f86c86f",
   "metadata": {},
   "outputs": [],
   "source": [
    "def decompoLU(A):\n",
    "    n = len(A)\n",
    "    L = np.zeros((n,n))\n",
    "    U = np.zeros((n,n))\n",
    "    \n",
    "    L[0,0] = 1\n",
    "    for i in range(n):\n",
    "        U[0,i] = A[0,i]\n",
    "    \n",
    "    for i in range(1, n):\n",
    "        L[i,0] = A[i,0]/U[0,0]\n",
    "        \n",
    "    for i in range(1, n):\n",
    "        L[i,i] = 1\n",
    "        \n",
    "        for j in range(i+1, n):\n",
    "            s1 = sum(L[i,k] * U[k,j] for k in range(j))\n",
    "            U[i,j] = (A[i,j] - s1)\n",
    "            \n",
    "        for j in range(1, i):\n",
    "            s2 = sum(L[i,k] * U[k,j] for k in range(j))\n",
    "            L[i,j] = (A[i,j] - s2)/U[j,j]\n",
    "\n",
    "        \n",
    "        s0 = sum(L[i,k] * U[k,i] for k in range(i))\n",
    "        U[i,i] = A[i,i] - s0\n",
    "            \n",
    "    return (L,U)"
   ]
  },
  {
   "cell_type": "markdown",
   "id": "134fb0de",
   "metadata": {},
   "source": [
    "### Tests"
   ]
  },
  {
   "cell_type": "code",
   "execution_count": 64,
   "id": "1fe0339a",
   "metadata": {},
   "outputs": [],
   "source": [
    "A = np.array([[-1,1,-3,0],[1,1,3,8],[-2,2,-5,-1],[3,1,8,13]])\n",
    "(L, U) = decompoLU(A)"
   ]
  },
  {
   "cell_type": "code",
   "execution_count": 65,
   "id": "e40751c3",
   "metadata": {},
   "outputs": [
    {
     "data": {
      "text/plain": [
       "array([[ 1.,  0.,  0.,  0.],\n",
       "       [-1.,  1.,  0.,  0.],\n",
       "       [ 2.,  0.,  1.,  0.],\n",
       "       [-3.,  2., -1.,  1.]])"
      ]
     },
     "execution_count": 65,
     "metadata": {},
     "output_type": "execute_result"
    }
   ],
   "source": [
    "L"
   ]
  },
  {
   "cell_type": "code",
   "execution_count": 66,
   "id": "0ae0c8e9",
   "metadata": {},
   "outputs": [
    {
     "data": {
      "text/plain": [
       "array([[-1.,  1., -3.,  0.],\n",
       "       [ 0.,  2.,  0.,  8.],\n",
       "       [ 0.,  0.,  1., -1.],\n",
       "       [ 0.,  0.,  0., -4.]])"
      ]
     },
     "execution_count": 66,
     "metadata": {},
     "output_type": "execute_result"
    }
   ],
   "source": [
    "U"
   ]
  },
  {
   "cell_type": "code",
   "execution_count": null,
   "id": "ec8c77b7",
   "metadata": {},
   "outputs": [],
   "source": []
  }
 ],
 "metadata": {
  "kernelspec": {
   "display_name": "Python 3 (ipykernel)",
   "language": "python",
   "name": "python3"
  },
  "language_info": {
   "codemirror_mode": {
    "name": "ipython",
    "version": 3
   },
   "file_extension": ".py",
   "mimetype": "text/x-python",
   "name": "python",
   "nbconvert_exporter": "python",
   "pygments_lexer": "ipython3",
   "version": "3.10.0"
  }
 },
 "nbformat": 4,
 "nbformat_minor": 5
}
