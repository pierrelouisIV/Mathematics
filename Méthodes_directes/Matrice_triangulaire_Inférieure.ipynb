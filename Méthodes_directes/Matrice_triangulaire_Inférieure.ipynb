{
 "cells": [
  {
   "cell_type": "markdown",
   "metadata": {},
   "source": [
    "# Résolution d'un système LX = B"
   ]
  },
  {
   "cell_type": "markdown",
   "metadata": {},
   "source": [
    "Programme de résolution d'un système matriciel L.X = B où L est une matrice triangulaire inférieure."
   ]
  },
  {
   "cell_type": "markdown",
   "metadata": {},
   "source": [
    "### Méthode"
   ]
  },
  {
   "cell_type": "markdown",
   "metadata": {},
   "source": [
    "On donne les formules de récurrences suivantes :\n",
    "$$ x_1 = \\frac{x_1}{L_{1,1}} $$\n",
    "\n",
    "$$ x_i = \\frac{1}{L_{i,i}}(b_i - \\sum_{j=1}^{i-1}(L_{i,j}x_j)) $$\n",
    "\n",
    "i appartenant à {2, 3, ..., n}"
   ]
  },
  {
   "cell_type": "markdown",
   "metadata": {},
   "source": [
    "### Programme"
   ]
  },
  {
   "cell_type": "code",
   "execution_count": 1,
   "metadata": {},
   "outputs": [
    {
     "name": "stdout",
     "output_type": "stream",
     "text": [
      "Matrice X = \n",
      "[[  1.        ]\n",
      " [  0.57142857]\n",
      " [ 13.14285714]\n",
      " [-11.69642857]]\n"
     ]
    }
   ],
   "source": [
    "import numpy as np\n",
    "\n",
    "# Fonctions :\n",
    "def Somme(i):\n",
    "    z = 0\n",
    "    for j in range(1, i):\n",
    "        z = z + L[i-1, j-1] * X[j-1, 0]\n",
    "    return z\n",
    "\n",
    "# Données :\n",
    "N = 4\n",
    "L = np.array([  [2,  0, 0, 0],\n",
    "                [1,  7, 0, 0],\n",
    "                [2, -2, 1, 0],\n",
    "                [5,  1, 7, 8]], float)\n",
    "\n",
    "B = np.array([ [2],\n",
    "               [5],\n",
    "              [14],\n",
    "               [4] ], float)\n",
    "\n",
    "X = np.zeros((N,1))\n",
    "\n",
    "# Prog :\n",
    "X[0,0] = B[0,0]/L[0,0]\n",
    "for i in range(2, (N+1)):\n",
    "    X[i-1,0] = (1/L[i-1,i-1]) * (B[i-1,0] - Somme(i))\n",
    "    \n",
    "# Résultats :\n",
    "print(\"Matrice X = \")\n",
    "print(X)"
   ]
  },
  {
   "cell_type": "code",
   "execution_count": null,
   "metadata": {},
   "outputs": [],
   "source": []
  }
 ],
 "metadata": {
  "kernelspec": {
   "display_name": "Python 3 (ipykernel)",
   "language": "python",
   "name": "python3"
  },
  "language_info": {
   "codemirror_mode": {
    "name": "ipython",
    "version": 3
   },
   "file_extension": ".py",
   "mimetype": "text/x-python",
   "name": "python",
   "nbconvert_exporter": "python",
   "pygments_lexer": "ipython3",
   "version": "3.10.0"
  }
 },
 "nbformat": 4,
 "nbformat_minor": 2
}
