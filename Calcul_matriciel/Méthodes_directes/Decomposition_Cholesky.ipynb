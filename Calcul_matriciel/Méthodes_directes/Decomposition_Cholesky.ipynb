{
 "cells": [
  {
   "cell_type": "markdown",
   "id": "c658825e",
   "metadata": {},
   "source": [
    "# Factorisation de Cholesky\n",
    "\n",
    "- Soit $A \\in M{n,n}$ où $A$ est respectivement strictement définie positive alors il existe une matrice $C$ triangulaire inférieure telle que $A = CC^t$\n",
    "- En plus cette décomposition de Cholesky est unique si et seulement si les coefficients diagonaux de $C$ sont positifs: $C_{i,i} \\ge 0$ avec $\\forall i=1, ..., n$"
   ]
  },
  {
   "cell_type": "code",
   "execution_count": 8,
   "id": "a6d65557",
   "metadata": {},
   "outputs": [],
   "source": [
    "# librairies python :\n",
    "import numpy as np\n",
    "from time import time"
   ]
  },
  {
   "cell_type": "code",
   "execution_count": 9,
   "id": "a11c4510",
   "metadata": {},
   "outputs": [],
   "source": [
    "# algo :\n",
    "def Cholesky(A):\n",
    "    n = len(A)\n",
    "    C = np.zeros((n,n))\n",
    "    C[0,0] = np.sqrt(A[0,0])\n",
    "    \n",
    "    for i in range(1, n):\n",
    "        C[i,0] = A[i,0] / C[0,0]\n",
    "        \n",
    "    for i in range(1, n-1):\n",
    "        C[i,i] = np.sqrt(A[i,i] - sum(C[i,k] * C[i,k] for k in range(i)))\n",
    "        \n",
    "        for j in range(i+1, n):\n",
    "            C[j,i] = (A[j,i] - sum(C[j,k] * C[i,k] for k in range(i))) / C[i,i]\n",
    "    \n",
    "    C[n-1,n-1] = np.sqrt(A[n-1, n-1] - sum(C[n-1,k] * C[n-1,k] for k in range(n)))\n",
    "\n",
    "    return C"
   ]
  },
  {
   "cell_type": "markdown",
   "id": "73e25f55",
   "metadata": {},
   "source": [
    "### Test :"
   ]
  },
  {
   "cell_type": "code",
   "execution_count": 12,
   "id": "fd83e948",
   "metadata": {},
   "outputs": [
    {
     "name": "stdout",
     "output_type": "stream",
     "text": [
      "C = \n",
      "[[1. 0. 0.]\n",
      " [1. 2. 0.]\n",
      " [1. 3. 4.]]\n",
      "Time = 0.001010894775390625\n"
     ]
    }
   ],
   "source": [
    "A = np.array([[1,1,1],[1,5,7],[1,7,26]])\n",
    "\n",
    "start = time()\n",
    "C = Cholesky(A)\n",
    "print(\"C = \\n{}\".format(C))\n",
    "print(\"Time = {}\".format(time() - start))"
   ]
  },
  {
   "cell_type": "markdown",
   "id": "42cb1b23",
   "metadata": {},
   "source": [
    "### Avec la fonction de numpy :"
   ]
  },
  {
   "cell_type": "code",
   "execution_count": 13,
   "id": "b042aca0",
   "metadata": {},
   "outputs": [
    {
     "name": "stdout",
     "output_type": "stream",
     "text": [
      "C = \n",
      "[[1. 0. 0.]\n",
      " [1. 2. 0.]\n",
      " [1. 3. 4.]]\n",
      "Time = 0.0010180473327636719\n"
     ]
    }
   ],
   "source": [
    "start = time()\n",
    "C_numpy = np.linalg.cholesky(A)\n",
    "print(\"C = \\n{}\".format(C))\n",
    "print(\"Time = {}\".format(time() - start))"
   ]
  }
 ],
 "metadata": {
  "kernelspec": {
   "display_name": "Python 3 (ipykernel)",
   "language": "python",
   "name": "python3"
  },
  "language_info": {
   "codemirror_mode": {
    "name": "ipython",
    "version": 3
   },
   "file_extension": ".py",
   "mimetype": "text/x-python",
   "name": "python",
   "nbconvert_exporter": "python",
   "pygments_lexer": "ipython3",
   "version": "3.10.0"
  }
 },
 "nbformat": 4,
 "nbformat_minor": 5
}
