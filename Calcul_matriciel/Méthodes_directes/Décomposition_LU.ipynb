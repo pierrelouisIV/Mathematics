{
 "cells": [
  {
   "cell_type": "markdown",
   "id": "14fb6fd0",
   "metadata": {},
   "source": [
    "# Decomposition LU"
   ]
  },
  {
   "cell_type": "markdown",
   "id": "cb97bcdd",
   "metadata": {},
   "source": [
    "- Décomposition d'une matrice *carrée*, inversible, A en une matrice triangulaire inférieure L telle que $L_{i,i} = 1$ pour\t$\\forall i = 1, ..., n$, et en une matrice triangulaire supérieure $U$ telle que $A = LU$\n",
    "\n",
    "- La matrice $L$ : $L_{i,j} = 0$ avec $i < j$\n",
    "\n",
    "- La matrice $U$ : $U_{i,j} = 0$ avec $i > j$\n",
    "\n",
    "## Méthode :\n",
    "\n",
    "- $L_{1,1} = 1$\n",
    "\n",
    "- Pour $j$ de 1 à $n$ :\n",
    "$$ U_{1,j} = a_{1,j} $$\n",
    "\n",
    "- Pour $i$ de 2 à $n$ :\n",
    "$$ L_{i,1} = \\frac{a_{i,1}}{U_{1,1}} $$\n",
    "\n",
    "- Pour $i$ de 2 à $n$ faire :\n",
    "$$ L_{i,i} = 1 $$\n",
    "$$ U_{i,i} = a_{i,i} - \\sum_{k=1}^{i-1} L_{i,k}U_{k,i}\t $$\n",
    "\n",
    "- Dans la boucle précédente, pour $j = i + 1$ à $n$, faire :\n",
    "$$ U_{i,j} = (a_{i,j} - \\sum_{k=1}^{i-1} L_{i,k}U_{k,j}) $$\n",
    "\n",
    "$$ L_{j,i} = (a_{j,i} - \\sum_{k=1}^{i-1} L_{j,k}U_{k,i}) \\frac{1}{U_{i,i}} $$"
   ]
  },
  {
   "cell_type": "markdown",
   "id": "f1230f30",
   "metadata": {},
   "source": [
    "## Implémentation :"
   ]
  },
  {
   "cell_type": "code",
   "execution_count": 1,
   "id": "5e5f4ce6",
   "metadata": {},
   "outputs": [],
   "source": [
    "# librairies python :\n",
    "import numpy as np\n",
    "from time import time"
   ]
  },
  {
   "cell_type": "code",
   "execution_count": 2,
   "id": "7f86c86f",
   "metadata": {},
   "outputs": [],
   "source": [
    "def decompoLU(A):\n",
    "    n = len(A)\n",
    "    L = np.zeros((n,n))\n",
    "    U = np.zeros((n,n))\n",
    "    \n",
    "    L[0,0] = 1\n",
    "    for i in range(n):\n",
    "        U[0,i] = A[0,i]\n",
    "    \n",
    "    for i in range(1, n):\n",
    "        L[i,0] = A[i,0]/U[0,0]\n",
    "        \n",
    "    for i in range(1, n):\n",
    "        L[i,i] = 1\n",
    "        \n",
    "        for j in range(i+1, n):\n",
    "            s1 = sum(L[i,k] * U[k,j] for k in range(j))\n",
    "            U[i,j] = (A[i,j] - s1)\n",
    "            \n",
    "        for j in range(1, i):\n",
    "            s2 = sum(L[i,k] * U[k,j] for k in range(j))\n",
    "            L[i,j] = (A[i,j] - s2)/U[j,j]\n",
    "\n",
    "        \n",
    "        s0 = sum(L[i,k] * U[k,i] for k in range(i))\n",
    "        U[i,i] = A[i,i] - s0\n",
    "            \n",
    "    return (L,U)"
   ]
  },
  {
   "cell_type": "markdown",
   "id": "134fb0de",
   "metadata": {},
   "source": [
    "## Tests"
   ]
  },
  {
   "cell_type": "code",
   "execution_count": 3,
   "id": "1fe0339a",
   "metadata": {},
   "outputs": [
    {
     "name": "stdout",
     "output_type": "stream",
     "text": [
      "L = \n",
      "[[ 1.  0.  0.]\n",
      " [ 2.  1.  0.]\n",
      " [-1.  4.  1.]]\n",
      "U = \n",
      "[[3. 2. 1.]\n",
      " [0. 2. 1.]\n",
      " [0. 0. 1.]]\n",
      "Time = 0.008914470672607422\n"
     ]
    }
   ],
   "source": [
    "A = np.array([[3, 2, 1],\n",
    "              [6, 6, 3],\n",
    "              [-3, 6, 4]])\n",
    "\n",
    "\n",
    "start = time()\n",
    "(L, U) = decompoLU(A)\n",
    "print(\"L = \\n{}\".format(L))\n",
    "print(\"U = \\n{}\".format(U))\n",
    "print(\"Time = {}\".format(time() - start))"
   ]
  },
  {
   "cell_type": "code",
   "execution_count": null,
   "id": "51326f48",
   "metadata": {},
   "outputs": [],
   "source": []
  }
 ],
 "metadata": {
  "kernelspec": {
   "display_name": "Python 3 (ipykernel)",
   "language": "python",
   "name": "python3"
  },
  "language_info": {
   "codemirror_mode": {
    "name": "ipython",
    "version": 3
   },
   "file_extension": ".py",
   "mimetype": "text/x-python",
   "name": "python",
   "nbconvert_exporter": "python",
   "pygments_lexer": "ipython3",
   "version": "3.10.0"
  }
 },
 "nbformat": 4,
 "nbformat_minor": 5
}
