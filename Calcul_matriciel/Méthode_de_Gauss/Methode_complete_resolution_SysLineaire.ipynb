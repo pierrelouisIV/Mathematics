{
 "cells": [
  {
   "cell_type": "markdown",
   "metadata": {},
   "source": [
    "# Résolution d'un système par la méthode d'élimination de Gauss"
   ]
  },
  {
   "cell_type": "markdown",
   "metadata": {},
   "source": [
    "Programme de résolution d'un système matriciel A.X = B où les matrices A et B sont données. On commence par déterminer un système équivalent A ' .X = B '  où A ' est une matrice triangulaire supérieure déterminée à partir de la matrice A, puis on calcul les valeurs (xn, xn-1, ..., x2, x1)."
   ]
  },
  {
   "cell_type": "markdown",
   "metadata": {},
   "source": [
    "# Programme"
   ]
  },
  {
   "cell_type": "code",
   "execution_count": 1,
   "metadata": {},
   "outputs": [
    {
     "name": "stdout",
     "output_type": "stream",
     "text": [
      "Matrice A = \n",
      "[[ 2. -5.  1.  3.]\n",
      " [ 4.  7.  8.  2.]\n",
      " [ 3.  1.  1.  6.]\n",
      " [ 4.  1.  7.  9.]]\n",
      "Matrice B = \n",
      "[[ 5.]\n",
      " [10.]\n",
      " [ 2.]\n",
      " [ 6.]]\n",
      "Matrice X = \n",
      "[[ 2.29699248]\n",
      " [-0.45363409]\n",
      " [ 0.71303258]\n",
      " [-0.85839599]]\n"
     ]
    }
   ],
   "source": [
    "import numpy as np\n",
    "\n",
    "# Fonctions :\n",
    "def Somme(i):\n",
    "    z = 0\n",
    "    for j in range((i+1), (N+1)):\n",
    "        z = z + AT[i-1,j-1] * X[j-1, 0]\n",
    "    return z\n",
    "\n",
    "# données :\n",
    "N = 4\n",
    "A = np.array([ [2, -5, 1, 3],\n",
    "               [4,  7, 8, 2],\n",
    "               [3,  1, 1, 6],\n",
    "               [4,  1, 7, 9] ], float)\n",
    "\n",
    "B = np.array([ [5],\n",
    "              [10],\n",
    "               [2],\n",
    "               [6] ], float)\n",
    "\n",
    "X = np.zeros((N,1))\n",
    "AT = A.copy()\n",
    "BT = B.copy()\n",
    "\n",
    "# Elimination de Gauss :\n",
    "for k in range(0, (N-1)):\n",
    "    for i in range((k+1), (N)):\n",
    "        q = AT[i,k]/AT[k,k]\n",
    "        BT[i,0] = BT[i,0] - q*BT[k,0]\n",
    "        AT[i,k] = 0\n",
    "        for j in range((k+1), (N)):\n",
    "            AT[i,j] = AT[i,j] - q*AT[k,j]\n",
    "\n",
    "            \n",
    "# Résolution AT*X = B\n",
    "X[N-1,0] = BT[N-1,0]/AT[N-1,N-1]\n",
    "for i in range(N-1, 0, -1):\n",
    "    X[i-1,0] = (1/AT[i-1,i-1])*(BT[i-1,0] - Somme(i))\n",
    "    \n",
    "\n",
    "# Résultats :\n",
    "print(\"Matrice A = \")\n",
    "print(A)\n",
    "print(\"Matrice B = \")\n",
    "print(B)\n",
    "print(\"Matrice X = \")\n",
    "print(X)"
   ]
  }
 ],
 "metadata": {
  "kernelspec": {
   "display_name": "Python 3 (ipykernel)",
   "language": "python",
   "name": "python3"
  },
  "language_info": {
   "codemirror_mode": {
    "name": "ipython",
    "version": 3
   },
   "file_extension": ".py",
   "mimetype": "text/x-python",
   "name": "python",
   "nbconvert_exporter": "python",
   "pygments_lexer": "ipython3",
   "version": "3.10.0"
  }
 },
 "nbformat": 4,
 "nbformat_minor": 2
}
