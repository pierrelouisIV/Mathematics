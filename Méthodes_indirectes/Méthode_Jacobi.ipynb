{
 "cells": [
  {
   "cell_type": "markdown",
   "id": "f9e26920",
   "metadata": {},
   "source": [
    "# Méthodes Itératives (indirectes) pour la résolution des systèmes linéaires :\n",
    "\n",
    "## Algorithme de Jacobi :\n",
    "\n",
    "- Soit $A \\in M_{n,n}$, $b \\in R^{n}$, et le système linéaire suivant : $Ax = b$\n",
    "- On pose $A = D - M - N$ avec $D$ la matrice diagonale de $A$, $M$ la matrice strictement triangulaire inférieure et $N$ la matrice strictement triangulaire supérieure.\n",
    "\n",
    "- $Ax =b$ devient : $Dx = (M + N)x + b$\n",
    "\n",
    "- On a l'algorithme de Jacobi :\n",
    "$$ x^{0} \\in R^{n} $$\n",
    "$$ x^{k+1} = D^{-1}(M + N)x^{k} + D^{-1}b $$\n",
    "\n",
    "- L'itération continue jusqu'à ce que : \n",
    "$$\\lvert\\lvert x^{k+1} - x^{k} \\rvert\\rvert < \\epsilon$$"
   ]
  },
  {
   "cell_type": "markdown",
   "id": "51697cad",
   "metadata": {},
   "source": [
    "### Implémentation :"
   ]
  },
  {
   "cell_type": "code",
   "execution_count": 1,
   "id": "4ae1739c",
   "metadata": {},
   "outputs": [],
   "source": [
    "# librairies python :\n",
    "import numpy as np"
   ]
  },
  {
   "cell_type": "code",
   "execution_count": 21,
   "id": "c4ceb3fc",
   "metadata": {},
   "outputs": [],
   "source": [
    "def Jacobi(A, b, MAX, x_init=None, e=None):\n",
    "    if(x_init is None):\n",
    "        x_init = np.zeros(len(A[0]))\n",
    "    \n",
    "    D = np.diagflat(np.diag(A))\n",
    "    S = D - A\n",
    "    \n",
    "    # Matrice Jacobienne :\n",
    "    D_inv = np.linalg.inv(D)\n",
    "    J = np.dot(D_inv, S)\n",
    "    \n",
    "    # précision epsilon et nombre d'itérations :\n",
    "    if(e is None):\n",
    "        e = 0.0001\n",
    "    iterations = 0\n",
    "    \n",
    "    # premier calcul :\n",
    "    x_k = x_init\n",
    "    x_new = np.dot(J, x_k) + np.dot(D_inv, b)\n",
    "    erreur = np.linalg.norm(x_new - x_k)\n",
    "    \n",
    "    while erreur > e:\n",
    "        iterations += 1\n",
    "        x_k = x_new\n",
    "        x_new = np.dot(J, x_k) + np.dot(D_inv, b)\n",
    "        erreur = np.linalg.norm(x_new - x_k)\n",
    "        if(iterations >= MAX ):\n",
    "            break\n",
    "\n",
    "    return x_new, iterations"
   ]
  },
  {
   "cell_type": "markdown",
   "id": "5e8894e0",
   "metadata": {},
   "source": [
    "### Test :"
   ]
  },
  {
   "cell_type": "code",
   "execution_count": 22,
   "id": "c2477007",
   "metadata": {},
   "outputs": [],
   "source": [
    "A = np.array([[10, -1, 2, 0],\n",
    "              [-1, 11,-1, 3],\n",
    "              [ 2, -1,10,-1],\n",
    "              [ 0,  3,-1, 8]])\n",
    "\n",
    "b = np.array([6, 25, -11, 15])\n",
    "\n",
    "\n",
    "solution, iterations = Jacobi(A, b, 10)"
   ]
  },
  {
   "cell_type": "code",
   "execution_count": 23,
   "id": "1b19c755",
   "metadata": {},
   "outputs": [
    {
     "name": "stdout",
     "output_type": "stream",
     "text": [
      "Solution x =  [ 0.99994242  2.00008477 -1.00006833  1.0001085 ]  en  10  itérations\n"
     ]
    }
   ],
   "source": [
    "print(\"Solution x = \",solution,\" en \",iterations,\" itérations\")"
   ]
  }
 ],
 "metadata": {
  "kernelspec": {
   "display_name": "Python 3 (ipykernel)",
   "language": "python",
   "name": "python3"
  },
  "language_info": {
   "codemirror_mode": {
    "name": "ipython",
    "version": 3
   },
   "file_extension": ".py",
   "mimetype": "text/x-python",
   "name": "python",
   "nbconvert_exporter": "python",
   "pygments_lexer": "ipython3",
   "version": "3.10.0"
  }
 },
 "nbformat": 4,
 "nbformat_minor": 5
}
