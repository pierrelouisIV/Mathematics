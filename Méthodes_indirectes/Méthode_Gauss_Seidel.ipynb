{
 "cells": [
  {
   "cell_type": "markdown",
   "id": "dc432491",
   "metadata": {},
   "source": [
    "# Méthodes Itératives (indirectes) pour la résolution des systèmes linéaires :\n",
    "\n",
    "## Algorithme de Gauss-Seidel :\n",
    "\n",
    "- Soit $A \\in M_{n,n}$, $b \\in R^{n}$, et le système linéaire suivant : $Ax = b$\n",
    "- On pose $A = D - M - N$ avec $D$ la matrice diagonale de $A$, $M$ la matrice strictement triangulaire inférieure et $N$ la matrice strictement triangulaire supérieure.\n",
    "\n",
    "- $Ax =b$ devient : $(D-M)x = Nx + b$ \n",
    "- $\\Leftrightarrow$  $x = (D-M)^{-1}Nx + (D-M)^{-1}b$\n",
    "\n",
    "- On a l'algorithme de Gauss-Seidel :\n",
    "$$ x^{0} \\in R^{n} $$\n",
    "$$ (D-M)x^{k+1} = Nx^{k} + b $$\n",
    "\n",
    "- Remarque : $(D-M)$ est une matrice triangulaire inférieure"
   ]
  },
  {
   "cell_type": "markdown",
   "id": "5ca0633f",
   "metadata": {},
   "source": [
    "### Implémentation :"
   ]
  },
  {
   "cell_type": "code",
   "execution_count": 1,
   "id": "0808f833",
   "metadata": {},
   "outputs": [],
   "source": [
    "# librairies python :\n",
    "import numpy as np"
   ]
  },
  {
   "cell_type": "code",
   "execution_count": 53,
   "id": "4ada61fa",
   "metadata": {},
   "outputs": [],
   "source": [
    "def Gauss_Seidel(A, b, MAX, x_init=None, e=None):\n",
    "    if(x_init is None):\n",
    "        x_init = np.zeros(len(A[0]))\n",
    "    \n",
    "    DM = np.tril(A)\n",
    "    N = np.triu(A,1)*-1\n",
    "    # la matrice de Gauss-Seidel : \n",
    "    L1 = np.dot(np.linalg.inv(DM), N)\n",
    "    \n",
    "    # précision epsilon et nombre d'itérations :\n",
    "    if(e is None):\n",
    "        e = 0.0001\n",
    "    iterations = 0\n",
    "    \n",
    "    # premier calcul :\n",
    "    x_k = x_init\n",
    "    x_new = np.dot(L1,x_k) + np.dot(np.linalg.inv(DM), b)\n",
    "    erreur = np.linalg.norm(x_new - x_k)\n",
    "    \n",
    "    while erreur > e:\n",
    "        iterations += 1\n",
    "        x_k = x_new\n",
    "        x_new = np.dot(L1,x_k) + np.dot(np.linalg.inv(DM), b)\n",
    "        erreur = np.linalg.norm(x_new - x_k)\n",
    "        if(iterations >= MAX ):\n",
    "            break\n",
    "\n",
    "    return x_new, iterations"
   ]
  },
  {
   "cell_type": "markdown",
   "id": "ed6ad26d",
   "metadata": {},
   "source": [
    "### Test :"
   ]
  },
  {
   "cell_type": "code",
   "execution_count": 54,
   "id": "ac43aea4",
   "metadata": {},
   "outputs": [],
   "source": [
    "A = np.array([[10, -1, 2, 0],\n",
    "              [-1, 11,-1, 3],\n",
    "              [ 2, -1,10,-1],\n",
    "              [ 0,  3,-1, 8]])\n",
    "\n",
    "b = np.array([6, 25, -11, 15])\n",
    "\n",
    "solution, iterations = Gauss_Seidel(A,b,10)"
   ]
  },
  {
   "cell_type": "code",
   "execution_count": 55,
   "id": "a254c907",
   "metadata": {},
   "outputs": [
    {
     "name": "stdout",
     "output_type": "stream",
     "text": [
      "Solution x =  [ 1.00000836  2.00000117 -1.00000275  0.99999922]  en  5  itérations\n"
     ]
    }
   ],
   "source": [
    "print(\"Solution x = \",solution,\" en \",iterations,\" itérations\")"
   ]
  }
 ],
 "metadata": {
  "kernelspec": {
   "display_name": "Python 3 (ipykernel)",
   "language": "python",
   "name": "python3"
  },
  "language_info": {
   "codemirror_mode": {
    "name": "ipython",
    "version": 3
   },
   "file_extension": ".py",
   "mimetype": "text/x-python",
   "name": "python",
   "nbconvert_exporter": "python",
   "pygments_lexer": "ipython3",
   "version": "3.10.0"
  }
 },
 "nbformat": 4,
 "nbformat_minor": 5
}
