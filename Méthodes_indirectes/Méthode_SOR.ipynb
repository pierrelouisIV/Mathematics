{
 "cells": [
  {
   "cell_type": "markdown",
   "id": "60032c6e",
   "metadata": {},
   "source": [
    "# Méthodes Itératives (indirectes) pour la résolution des systèmes linéaires :\n",
    "\n",
    "## Méthode SOR (de relaxation) :\n",
    "\n",
    "- Soit un matrice carrée $A = M - N$\n",
    "- On introduit un paramètre réel $\\omega$ et on pose : $M = \\frac{D}{\\omega} - L$, et $N = \\frac{1-\\omega}{\\omega}D + U$\n",
    "\n",
    "- Chaque itérations consiste à résoudre le système linéaire suivant :\n",
    "$$ \\left(\\frac{D}{\\omega} - L\\right)X^{k+1} = \\left(\\frac{1-\\omega}{\\omega}D + U\\right)X^{k} + b $$\n",
    "\n",
    "- Pour $\\omega > 1$ on parle de sur-relaxation,\n",
    "- pour $\\omega < 1$ on parle de sous-relaxation\n",
    "- et pour $\\omega = 1$ on retrouve la méthode de Gauss-Seidel."
   ]
  },
  {
   "cell_type": "markdown",
   "id": "a2937e4b",
   "metadata": {},
   "source": [
    "## Implémentation :"
   ]
  },
  {
   "cell_type": "code",
   "execution_count": 2,
   "id": "65b6cdec",
   "metadata": {},
   "outputs": [],
   "source": [
    "# librairies python :\n",
    "import numpy as np"
   ]
  },
  {
   "cell_type": "code",
   "execution_count": 15,
   "id": "f8ee8371",
   "metadata": {},
   "outputs": [],
   "source": [
    "def relaxation(A, b, MAX, w, x_init=None, e=None):\n",
    "    if(x_init is None):\n",
    "        x_init = np.zeros(len(A[0]))\n",
    "    \n",
    "    D = np.diagflat(np.diag(A))\n",
    "    L = np.tril(A,-1)*-1\n",
    "    U = np.triu(A,1)*-1\n",
    "    \n",
    "    \n",
    "    # la matrice SOR : \n",
    "    SOR = (D/w) - L\n",
    "    SOR2 = (((1-w)/w)*D) + U\n",
    "    \n",
    "    # précision epsilon et nombre d'itérations :\n",
    "    if(e is None):\n",
    "        e = 0.0001\n",
    "    iterations = 0\n",
    "    \n",
    "    # premier calcul :\n",
    "    x_k = x_init\n",
    "    x_new = np.dot(np.linalg.inv(SOR), np.dot(SOR2, x_k) + b)\n",
    "    erreur = np.linalg.norm(x_new - x_k)\n",
    "    \n",
    "    while erreur > e:\n",
    "        iterations += 1\n",
    "        x_k = x_new\n",
    "        x_new = np.dot(np.linalg.inv(SOR), np.dot(SOR2, x_k) + b)\n",
    "        erreur = np.linalg.norm(x_new - x_k)\n",
    "        if(iterations >= MAX ):\n",
    "            break\n",
    "\n",
    "    return x_new, iterations"
   ]
  },
  {
   "cell_type": "markdown",
   "id": "cbcdd8a0",
   "metadata": {},
   "source": [
    "## Test :"
   ]
  },
  {
   "cell_type": "code",
   "execution_count": 29,
   "id": "bfe167bd",
   "metadata": {},
   "outputs": [
    {
     "name": "stdout",
     "output_type": "stream",
     "text": [
      "Solution x =  [ 0.99999755  1.99998922 -0.9999948   1.0000024 ]  en  10  itérations\n"
     ]
    }
   ],
   "source": [
    "A = np.array([[10, -1, 2, 0],\n",
    "              [-1, 11,-1, 3],\n",
    "              [ 2, -1,10,-1],\n",
    "              [ 0,  3,-1, 8]])\n",
    "\n",
    "b = np.array([6, 25, -11, 15])\n",
    "\n",
    "solution, iterations = relaxation(A, b, 100, 1.3)\n",
    "print(\"Solution x = \",solution,\" en \",iterations,\" itérations\")"
   ]
  },
  {
   "cell_type": "code",
   "execution_count": null,
   "id": "8f6e5a22",
   "metadata": {},
   "outputs": [],
   "source": []
  }
 ],
 "metadata": {
  "kernelspec": {
   "display_name": "Python 3 (ipykernel)",
   "language": "python",
   "name": "python3"
  },
  "language_info": {
   "codemirror_mode": {
    "name": "ipython",
    "version": 3
   },
   "file_extension": ".py",
   "mimetype": "text/x-python",
   "name": "python",
   "nbconvert_exporter": "python",
   "pygments_lexer": "ipython3",
   "version": "3.10.0"
  }
 },
 "nbformat": 4,
 "nbformat_minor": 5
}
