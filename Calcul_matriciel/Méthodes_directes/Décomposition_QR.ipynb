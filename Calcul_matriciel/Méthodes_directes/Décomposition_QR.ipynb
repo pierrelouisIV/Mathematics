{
 "cells": [
  {
   "cell_type": "markdown",
   "id": "d18de0eb",
   "metadata": {},
   "source": [
    "# Méthodes exactes (Directes) pour la résolution des systèmes linéaires :\n",
    "\n",
    "## Factorisation QR :\n",
    "\n",
    "- Soit $A \\in M_{n,n}$ une matrice, alors il existe une matrice orthogonale $Q$, et une matrice triangulaire supérieure $R$ telles que : $A = QR$\n",
    "\n",
    "- En plus si $A$ est inversible, la décomposition $QR$ est unique.\n",
    "\n",
    "- Le système $Ax = b$ devient $QRx = b$, et par changement de variable ($Rx = y$), on obtient le système linéaire suivant :\n",
    "1. $ Qy = b $ $\\Longleftrightarrow$ $ y = Q^tb $\n",
    "2. $ Rx = y $\n",
    "\n",
    "- La résolution ce fait avec l'algorithme de la matrice triangulaire supérieure.\n",
    "- Puis utilisation de Gram-schmidt\n",
    "\n",
    "### Procédé de Gram-Schimdt :\n",
    "\n",
    "- On met la matrice $A$ sous la forme : $A = (a_1, a_2, ..., a_n)$ avec $a_i$ un vecteur colonne $\\forall i = 1,...,n $\n",
    "- Principe : Base quelconque de $R^n$ $\\longrightarrow$ Base orthonormée.\n",
    "- Calcul de $Q$ :\n",
    "$$ u_1 = a_1 \\longrightarrow e_1 = \\frac{u_1}{\\lvert\\lvert u_1 \\rvert\\rvert}$$\n",
    "$$ u_k = a_k - \\sum_{i=1}^{k-1} <a_k|e_i>e_i \\longrightarrow e_k = \\frac{u_k}{\\lvert\\lvert u_k \\rvert\\rvert}$$\n",
    "\n",
    "- Alors la famille {$e_1, e_2, ..., e_n$} est une base orthonormée.\n",
    "- Et la décomposition $QR$ est obtenue par : \n",
    "$$ A = (a_1|a_2|...|a_n) = (e_1 e_2 ... e_n) \\begin{vmatrix} <a_1,e_1> & <a_2,e_1> & ... & <a_n,e_1>\\\\  0     & <a_2,e_2> & ...& <a_n,e_2>\\\\ ...    &     0     & ... &    ...   \\\\   0     &     0     & ... & <a_n,e_n>\\\\ \\end{vmatrix} $$"
   ]
  },
  {
   "cell_type": "markdown",
   "id": "e4c3c404",
   "metadata": {},
   "source": [
    "## Implémentation :"
   ]
  },
  {
   "cell_type": "code",
   "execution_count": 35,
   "id": "4e95f0cb",
   "metadata": {},
   "outputs": [],
   "source": [
    "# librairie python :\n",
    "import numpy as np\n",
    "from time import time"
   ]
  },
  {
   "cell_type": "code",
   "execution_count": 67,
   "id": "697b61c1",
   "metadata": {},
   "outputs": [],
   "source": [
    "def decompoQR(A):\n",
    "    n = len(A)\n",
    "    Q = np.zeros((n,n))\n",
    "    R = np.zeros((n,n))\n",
    "    U = np.zeros((n,n))\n",
    "    \n",
    "    U[0] = A[0]\n",
    "    Q[0] = U[0] / np.linalg.norm(U[0])\n",
    "    \n",
    "    # calcul de la matrice Q orthogonale :\n",
    "    for i in range(1,n):\n",
    "        somme = 0\n",
    "        for k in range(i):\n",
    "            R[k,i] = np.dot(A[i], Q[k])\n",
    "            somme += np.dot(R[k,i], Q[k])\n",
    "        U[i] = A[i]  - somme\n",
    "        Q[i] = U[i] / np.linalg.norm(U[i])\n",
    "        \n",
    "    # Calcul matrice R :\n",
    "    for i in range(n):\n",
    "        R[i,i] = np.dot(A[i], Q[i])\n",
    "    \n",
    "    return Q.T, R"
   ]
  },
  {
   "cell_type": "markdown",
   "id": "cf37d3de",
   "metadata": {},
   "source": [
    "## Test :"
   ]
  },
  {
   "cell_type": "code",
   "execution_count": 68,
   "id": "759d7d18",
   "metadata": {},
   "outputs": [
    {
     "name": "stdout",
     "output_type": "stream",
     "text": [
      "Q = \n",
      "[[ 0.70710678  0.40824829 -0.57735027]\n",
      " [ 0.70710678 -0.40824829  0.57735027]\n",
      " [ 0.          0.81649658  0.57735027]]\n",
      "R = \n",
      "[[1.41421356 0.70710678 0.70710678]\n",
      " [0.         1.22474487 0.40824829]\n",
      " [0.         0.         1.15470054]]\n",
      "Time = 0.0010445117950439453\n"
     ]
    }
   ],
   "source": [
    "A = np.array([[1,1,0],[1,0,1],[0,1,1]])\n",
    "\n",
    "start = time()\n",
    "Q,R = decompoQR(A.T)\n",
    "print(\"Q = \\n{}\".format(Q))\n",
    "print(\"R = \\n{}\".format(R))\n",
    "print(\"Time = {}\".format(time() - start))"
   ]
  },
  {
   "cell_type": "markdown",
   "id": "2f1d6b09",
   "metadata": {},
   "source": [
    "## Factorisation QR avec Numpy :"
   ]
  },
  {
   "cell_type": "code",
   "execution_count": 69,
   "id": "52ba1f0f",
   "metadata": {},
   "outputs": [
    {
     "name": "stdout",
     "output_type": "stream",
     "text": [
      "Q = \n",
      "[[-0.70710678  0.40824829 -0.57735027]\n",
      " [-0.70710678 -0.40824829  0.57735027]\n",
      " [-0.          0.81649658  0.57735027]]\n",
      "R = \n",
      "[[-1.41421356 -0.70710678 -0.70710678]\n",
      " [ 0.          1.22474487  0.40824829]\n",
      " [ 0.          0.          1.15470054]]\n",
      "Time = 0.013729572296142578\n"
     ]
    }
   ],
   "source": [
    "start = time()\n",
    "Q, R = np.linalg.qr(A)\n",
    "print(\"Q = \\n{}\".format(Q))\n",
    "print(\"R = \\n{}\".format(R))\n",
    "print(\"Time = {}\".format(time() - start))"
   ]
  }
 ],
 "metadata": {
  "kernelspec": {
   "display_name": "Python 3 (ipykernel)",
   "language": "python",
   "name": "python3"
  },
  "language_info": {
   "codemirror_mode": {
    "name": "ipython",
    "version": 3
   },
   "file_extension": ".py",
   "mimetype": "text/x-python",
   "name": "python",
   "nbconvert_exporter": "python",
   "pygments_lexer": "ipython3",
   "version": "3.10.0"
  }
 },
 "nbformat": 4,
 "nbformat_minor": 5
}
