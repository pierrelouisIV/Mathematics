{
 "cells": [
  {
   "cell_type": "markdown",
   "id": "d62f7416",
   "metadata": {},
   "source": [
    "# Algorithme numérique pour l'optimisation\n",
    "\n",
    "- Pour une fonction $f(x)$ donnée, il faut trouver $x$ tel que $f(x) = 0$\n",
    "\n",
    "- Pour les fonctions où $x$ sera introuvable, nous allons utiliser la méthode de Newton-Raphson pour approcher un $\\alpha$ tel que $f(\\alpha) = 0$\n",
    "\n",
    "## Méthode de Newton - Raphson :\n",
    "\n",
    "- A l'étape $k$ , au point $(x_k, f(x_k))$, nous avons la tangente $(T_k)$ donnée par :\n",
    "\n",
    "$$ y = f'(x_k) (x - x_k) + f(x_k) $$\n",
    "\n",
    "- A l'étape $k+1$, on a le point $(x_{k}, f(x_{k+1})) = T_k \\cap (0x)$\n",
    "\n",
    "$$ \\Leftrightarrow 0 = f'(x_k) (x_{k+1} - x_k) + f(x_k) $$\n",
    "\n",
    "$$ \\Leftrightarrow x_{k+1} = x_k - \\frac{f(x_k)}{f'(x_k)} $$\n",
    "\n",
    "\n",
    "## Implémentation :"
   ]
  },
  {
   "cell_type": "code",
   "execution_count": 30,
   "id": "878507af",
   "metadata": {},
   "outputs": [],
   "source": [
    "# librairie nécessaire\n",
    "import numpy as np\n",
    "import matplotlib.pyplot as plt\n",
    "%matplotlib inline"
   ]
  },
  {
   "cell_type": "code",
   "execution_count": 18,
   "id": "47142215",
   "metadata": {},
   "outputs": [],
   "source": [
    "# La fonction choisie comme exemple :\n",
    "def f(x):\n",
    "    return np.power(4, x) - x - 2\n",
    "    \n",
    "    \n",
    "def df(x):\n",
    "    return np.log(4) * np.exp(x * np.log(4)) - 1"
   ]
  },
  {
   "cell_type": "code",
   "execution_count": 28,
   "id": "a1fe2b42",
   "metadata": {},
   "outputs": [],
   "source": [
    "def Newton_Raphson(x0, e):\n",
    "    N = 1000\n",
    "\n",
    "    x_old = x0\n",
    "    x_new = x_old - (f(x_old) / df(x_old))\n",
    "\n",
    "    erreur = np.abs(x_new - x_old)\n",
    "\n",
    "    # algorithme\n",
    "    while erreur > e and N > 0:\n",
    "        x_old = x_new\n",
    "        x_new = x_old - f(x_old) / df(x_old)\n",
    "        erreur = np.abs(x_new - x_old)\n",
    "        N = N - 1\n",
    "    x_appro = x_new\n",
    "    \n",
    "    return x_appro"
   ]
  },
  {
   "cell_type": "markdown",
   "id": "06918a0d",
   "metadata": {},
   "source": [
    "## Test :"
   ]
  },
  {
   "cell_type": "code",
   "execution_count": 40,
   "id": "913d37d0",
   "metadata": {},
   "outputs": [
    {
     "name": "stdout",
     "output_type": "stream",
     "text": [
      "0.722453777368964\n"
     ]
    }
   ],
   "source": [
    "x = Newton_Raphson(1, 0.0001)\n",
    "print(x)"
   ]
  },
  {
   "cell_type": "code",
   "execution_count": 45,
   "id": "7de5d45e",
   "metadata": {},
   "outputs": [
    {
     "data": {
      "image/png": "[encoded data removed]",
      "text/plain": [
       "<Figure size 432x288 with 1 Axes>"
      ]
     },
     "metadata": {
      "needs_background": "light"
     },
     "output_type": "display_data"
    }
   ],
   "source": [
    "X = np.arange(0, 1, 0.0001)\n",
    "\n",
    "\n",
    "plt.plot(X, f(X), label=\"4^x - x - 2\")\n",
    "plt.plot(x, f(x), '-gD', label=\"x approximé\")\n",
    "plt.legend()\n",
    "plt.show()"
   ]
  }
 ],
 "metadata": {
  "kernelspec": {
   "display_name": "Python 3 (ipykernel)",
   "language": "python",
   "name": "python3"
  },
  "language_info": {
   "codemirror_mode": {
    "name": "ipython",
    "version": 3
   },
   "file_extension": ".py",
   "mimetype": "text/x-python",
   "name": "python",
   "nbconvert_exporter": "python",
   "pygments_lexer": "ipython3",
   "version": "3.10.0"
  }
 },
 "nbformat": 4,
 "nbformat_minor": 5
}
