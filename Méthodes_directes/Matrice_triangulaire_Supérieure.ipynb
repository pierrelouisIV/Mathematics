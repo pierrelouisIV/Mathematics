{
 "cells": [
  {
   "cell_type": "markdown",
   "metadata": {},
   "source": [
    "# Résolution d'un système UX = B"
   ]
  },
  {
   "cell_type": "markdown",
   "metadata": {},
   "source": [
    "Programme de résolution d'un système matriciel U.X = B où U est une matrice triangulaire supérieure.\n",
    "Les formules de récurrences nécessaires sont données dans la parties relative à la méthode utilisée."
   ]
  },
  {
   "cell_type": "markdown",
   "metadata": {},
   "source": [
    "### Méthodes"
   ]
  },
  {
   "cell_type": "markdown",
   "metadata": {},
   "source": [
    "On donnes les formules de récurrences suivantes :\n",
    "$$ x_n = \\frac{b_n}{U_m} $$\n",
    "\n",
    "$$ x_i = \\frac{1}{U_{i,i}}(b_i - \\sum_{j=i+1}^{n} U_{i,j}x_j) $$\n",
    " \n",
    "\n",
    "avec i appartenant à {n-1, n-2, ..., 1}"
   ]
  },
  {
   "cell_type": "markdown",
   "metadata": {},
   "source": [
    "### Programme"
   ]
  },
  {
   "cell_type": "code",
   "execution_count": 1,
   "metadata": {},
   "outputs": [
    {
     "name": "stdout",
     "output_type": "stream",
     "text": [
      "Matrice X = \n",
      "[[ 16.]\n",
      " [-16.]\n",
      " [ 23.]\n",
      " [  1.]]\n"
     ]
    }
   ],
   "source": [
    "# Résolution UX = B\n",
    "import numpy as np\n",
    "\n",
    "#Fonctions\n",
    "def Somme(i):\n",
    "    z = 0\n",
    "    for j in range((i+1), (N+1)):\n",
    "        z = z + U[i - 1, j - 1] * X[j - 1, 0]\n",
    "    return z\n",
    "\n",
    "# Données \n",
    "N = 4\n",
    "U = np.array([  [2, 3, 1, 3],\n",
    "                [0, 7, 5, 2],\n",
    "                [0, 0, 1, 3],\n",
    "                [0, 0, 0, 8]], float)\n",
    "\n",
    "B = np.array([ [10],\n",
    "                [5],\n",
    "               [26],\n",
    "                [8]], float)\n",
    "\n",
    "X = np.zeros((N,1))\n",
    "\n",
    "# Prog :\n",
    "X[N - 1,0] = B[N - 1,0]/U[N - 1, N - 1]\n",
    "for i in range(N - 1, 0, -1):\n",
    "    X[i-1,0] = (1/U[i-1,i-1]) * (B[i-1,0] - Somme(i))\n",
    "    \n",
    "    \n",
    "# Résultat :\n",
    "print(\"Matrice X = \")\n",
    "print(X)"
   ]
  },
  {
   "cell_type": "code",
   "execution_count": null,
   "metadata": {},
   "outputs": [],
   "source": []
  }
 ],
 "metadata": {
  "kernelspec": {
   "display_name": "Python 3 (ipykernel)",
   "language": "python",
   "name": "python3"
  },
  "language_info": {
   "codemirror_mode": {
    "name": "ipython",
    "version": 3
   },
   "file_extension": ".py",
   "mimetype": "text/x-python",
   "name": "python",
   "nbconvert_exporter": "python",
   "pygments_lexer": "ipython3",
   "version": "3.10.0"
  }
 },
 "nbformat": 4,
 "nbformat_minor": 2
}
