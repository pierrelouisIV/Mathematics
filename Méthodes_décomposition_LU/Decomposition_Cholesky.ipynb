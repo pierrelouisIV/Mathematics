{
 "cells": [
  {
   "cell_type": "markdown",
   "id": "c658825e",
   "metadata": {},
   "source": [
    "# Factorisation de Cholesky\n",
    "\n",
    "- Soit $A \\in M{n,n}$ où $A$ est respectivement strictement définie positive alors il existe une matrice C triangulaire inférieure telle que $A = CC^t$\n",
    "- En plus cette décomposition de Cholesky est unique si et seulement si les coefficients diagonaux de $C$ sont positifs."
   ]
  },
  {
   "cell_type": "code",
   "execution_count": 1,
   "id": "a6d65557",
   "metadata": {},
   "outputs": [],
   "source": [
    "# library :\n",
    "import numpy as np"
   ]
  },
  {
   "cell_type": "code",
   "execution_count": 19,
   "id": "a11c4510",
   "metadata": {},
   "outputs": [],
   "source": [
    "# algo :\n",
    "def Cholesky(A):\n",
    "    n = len(A)\n",
    "    C = np.zeros((n,n))\n",
    "    C[0,0] = np.sqrt(A[0,0])\n",
    "    \n",
    "    for i in range(1, n):\n",
    "        C[i,0] = A[i,0] / C[0,0]\n",
    "        \n",
    "    for i in range(1, n-1):\n",
    "        C[i,i] = np.sqrt(A[i,i] - sum(C[i,k] * C[i,k] for k in range(i)))\n",
    "        \n",
    "        for j in range(i+1, n):\n",
    "            C[j,i] = (A[j,i] - sum(C[j,k] * C[i,k] for k in range(i))) / C[i,i]\n",
    "    \n",
    "    C[n-1,n-1] = np.sqrt(A[n-1, n-1] - sum(C[n-1,k] * C[n-1,k] for k in range(n)))\n",
    "\n",
    "    return C"
   ]
  },
  {
   "cell_type": "markdown",
   "id": "73e25f55",
   "metadata": {},
   "source": [
    "### Test :"
   ]
  },
  {
   "cell_type": "code",
   "execution_count": 29,
   "id": "fd83e948",
   "metadata": {},
   "outputs": [
    {
     "data": {
      "text/plain": [
       "array([[ 1,  1,  1],\n",
       "       [ 1,  5,  7],\n",
       "       [ 1,  7, 26]])"
      ]
     },
     "execution_count": 29,
     "metadata": {},
     "output_type": "execute_result"
    }
   ],
   "source": [
    "A = np.array([[1,1,1],[1,5,7],[1,7,26]])\n",
    "A"
   ]
  },
  {
   "cell_type": "code",
   "execution_count": 30,
   "id": "813c9a16",
   "metadata": {},
   "outputs": [
    {
     "data": {
      "text/plain": [
       "array([[1., 0., 0.],\n",
       "       [1., 2., 0.],\n",
       "       [1., 3., 4.]])"
      ]
     },
     "execution_count": 30,
     "metadata": {},
     "output_type": "execute_result"
    }
   ],
   "source": [
    "C = Cholesky(A)\n",
    "C"
   ]
  },
  {
   "cell_type": "markdown",
   "id": "42cb1b23",
   "metadata": {},
   "source": [
    "### Avec la fonction de numpy :"
   ]
  },
  {
   "cell_type": "code",
   "execution_count": 31,
   "id": "b042aca0",
   "metadata": {},
   "outputs": [
    {
     "data": {
      "text/plain": [
       "array([[1., 0., 0.],\n",
       "       [1., 2., 0.],\n",
       "       [1., 3., 4.]])"
      ]
     },
     "execution_count": 31,
     "metadata": {},
     "output_type": "execute_result"
    }
   ],
   "source": [
    "np.linalg.cholesky(A)"
   ]
  }
 ],
 "metadata": {
  "kernelspec": {
   "display_name": "Python 3 (ipykernel)",
   "language": "python",
   "name": "python3"
  },
  "language_info": {
   "codemirror_mode": {
    "name": "ipython",
    "version": 3
   },
   "file_extension": ".py",
   "mimetype": "text/x-python",
   "name": "python",
   "nbconvert_exporter": "python",
   "pygments_lexer": "ipython3",
   "version": "3.10.0"
  }
 },
 "nbformat": 4,
 "nbformat_minor": 5
}
