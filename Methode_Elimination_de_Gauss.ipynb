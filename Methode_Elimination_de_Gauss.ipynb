{
 "cells": [
  {
   "cell_type": "markdown",
   "metadata": {},
   "source": [
    "# Méthode d'élimination de Gauss"
   ]
  },
  {
   "cell_type": "markdown",
   "metadata": {},
   "source": [
    "- Programme permattant de transformer un système matriciel $Ax = B$ en un système équivalent $A'x = B'$ où $A'$ est une matrice triangulaire supérieure déterminée à partir de la matrice $A$.\n",
    "\n",
    "- les formules de récurrences nécessaires sont données dans la partie relative à la méthode utilisée."
   ]
  },
  {
   "cell_type": "markdown",
   "metadata": {},
   "source": [
    "### Méthode\n",
    "\n",
    "- L'algorithme d'élimination de Gauss comporte n étapes. On note $a^{k}_{i,j}$ l'élément de la ième ligne et de la jème colonne de la matrice $A$ à l'étape $k$, notée $a^k$\n",
    "- On obtient la matrice $A(n) = A'$ au bout des $n$ étapes.\n",
    "- On initialise l'algorithme avec $A(1) = A$ puis on calcul les étapes $k=1, k=2, ..., k=n-1$ en utilisant les formules de récurrences suivantes définies pour $i \\in$ {k+1, k+2, ..., n} :\n",
    "\n",
    "$$ a^{k+1}_{i,j} = a^{k}_{i,j} - \\frac{a^{k}_{i,k}}{a^{k}{k,k}} * a^{k}_{k,j} $$\n",
    "\n",
    "- et \n",
    "\n",
    "$$ b^{k+1}_i = b^{k}_i - \\frac{a^{k}_{i,k}}{a^{k}_{k,k}} * b^{k}_k $$\n",
    "\n",
    "- avec $j \\in $  {k+1, k+2, ..., n}"
   ]
  },
  {
   "cell_type": "markdown",
   "metadata": {},
   "source": [
    "### Programme"
   ]
  },
  {
   "cell_type": "code",
   "execution_count": 1,
   "metadata": {},
   "outputs": [
    {
     "name": "stdout",
     "output_type": "stream",
     "text": [
      "Matrice AT : \n",
      "[[ 2.         -5.          1.          3.        ]\n",
      " [ 0.         17.          6.         -4.        ]\n",
      " [ 0.          0.         -3.5         3.5       ]\n",
      " [ 0.          0.          0.          6.70588235]]\n",
      "Vecteur colonne BT :\n",
      "[[ 5.        ]\n",
      " [ 0.        ]\n",
      " [-5.5       ]\n",
      " [-5.75630252]]\n"
     ]
    }
   ],
   "source": [
    "import numpy as np\n",
    "\n",
    "N = 4\n",
    "A = np.array([  [2, -5, 1, 3],\n",
    "                [4,  7, 8, 2],\n",
    "                [3,  1, 1, 6],\n",
    "                [4,  1, 7, 9]], float)\n",
    "B = np.array([  [5],\n",
    "               [10],\n",
    "                [2],\n",
    "                [6]], float)\n",
    "\n",
    "AT = A.copy()\n",
    "BT = B.copy()\n",
    "\n",
    "# Algo :\n",
    "\n",
    "for k in range(0, (N-1)):\n",
    "    for i in range((k+1), (N)):\n",
    "               q = AT[i,k] / AT[k,k]\n",
    "               BT[i,0] = BT[i,0] - q * BT[k,0]\n",
    "               AT[i,k] = 0\n",
    "               for j in range((k+1), (N)):\n",
    "                   AT[i,j] = AT[i,j] - q*AT[k,j]\n",
    "\n",
    "\n",
    "# Affichage :\n",
    "print(\"Matrice AT : \")\n",
    "print(AT)\n",
    "print(\"Vecteur colonne BT :\")\n",
    "print(BT)"
   ]
  }
 ],
 "metadata": {
  "kernelspec": {
   "display_name": "Python 3 (ipykernel)",
   "language": "python",
   "name": "python3"
  },
  "language_info": {
   "codemirror_mode": {
    "name": "ipython",
    "version": 3
   },
   "file_extension": ".py",
   "mimetype": "text/x-python",
   "name": "python",
   "nbconvert_exporter": "python",
   "pygments_lexer": "ipython3",
   "version": "3.10.0"
  }
 },
 "nbformat": 4,
 "nbformat_minor": 2
}
